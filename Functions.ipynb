{
 "cells": [
  {
   "cell_type": "markdown",
   "id": "81d78791-1356-4b16-9583-f37f3df5b7ca",
   "metadata": {},
   "source": [
    "# Functions"
   ]
  },
  {
   "cell_type": "code",
   "execution_count": 24,
   "id": "f2b209e7-4127-48df-949d-2a59f84eb76c",
   "metadata": {},
   "outputs": [],
   "source": [
    "def first_func():\n",
    "    print('We did it!')"
   ]
  },
  {
   "cell_type": "code",
   "execution_count": 26,
   "id": "051355a0-6241-444d-9a4f-d1f643e3bd8c",
   "metadata": {},
   "outputs": [
    {
     "name": "stdout",
     "output_type": "stream",
     "text": [
      "We did it!\n"
     ]
    }
   ],
   "source": [
    "first_func()"
   ]
  },
  {
   "cell_type": "code",
   "execution_count": 28,
   "id": "57fbd5d6-7f8c-46e8-b8d7-d35832c13085",
   "metadata": {},
   "outputs": [],
   "source": [
    "def number_squared(number):\n",
    "    print(number**2)"
   ]
  },
  {
   "cell_type": "code",
   "execution_count": 30,
   "id": "0707b33c-b7c6-4934-8c66-4017d5d1ea8a",
   "metadata": {},
   "outputs": [
    {
     "name": "stdout",
     "output_type": "stream",
     "text": [
      "25\n"
     ]
    }
   ],
   "source": [
    "number_squared(5)"
   ]
  },
  {
   "cell_type": "code",
   "execution_count": 32,
   "id": "6f56a0df-b117-41a2-a771-c0d4724e2654",
   "metadata": {},
   "outputs": [],
   "source": [
    "def number_squared_cust(number,power):\n",
    "    print(number**power)"
   ]
  },
  {
   "cell_type": "code",
   "execution_count": 34,
   "id": "39a2580b-5de1-4d27-814d-d4ee8fadc1f7",
   "metadata": {},
   "outputs": [
    {
     "name": "stdout",
     "output_type": "stream",
     "text": [
      "25\n"
     ]
    }
   ],
   "source": [
    "number_squared_cust(5,2)"
   ]
  },
  {
   "cell_type": "code",
   "execution_count": 36,
   "id": "c1ca57e1-f8b7-44fc-a285-631986b39c22",
   "metadata": {},
   "outputs": [],
   "source": [
    "def number_args(*number):\n",
    "    print(number[0]*number[1])"
   ]
  },
  {
   "cell_type": "code",
   "execution_count": 38,
   "id": "18d68514-1874-4ae7-9c7c-b27fe3f1347d",
   "metadata": {},
   "outputs": [
    {
     "name": "stdout",
     "output_type": "stream",
     "text": [
      "2\n"
     ]
    }
   ],
   "source": [
    "number_args(1,2,3,2,1,1)"
   ]
  },
  {
   "cell_type": "code",
   "execution_count": 44,
   "id": "f865762e-ed77-4fad-a1e4-5803e4d9203a",
   "metadata": {},
   "outputs": [],
   "source": [
    "args_tuple = (1,2,3,1,13)\n",
    "\n",
    "def number_args(*number):\n",
    "    print(number[0]*number[1])\n"
   ]
  },
  {
   "cell_type": "code",
   "execution_count": 46,
   "id": "4cd00809-384b-4df0-a00b-d8469bb20951",
   "metadata": {},
   "outputs": [
    {
     "name": "stdout",
     "output_type": "stream",
     "text": [
      "2\n"
     ]
    }
   ],
   "source": [
    "number_args(*args_tuple)"
   ]
  },
  {
   "cell_type": "code",
   "execution_count": 48,
   "id": "13e64fc1-f073-458f-9c20-fb4a13c5612d",
   "metadata": {},
   "outputs": [],
   "source": [
    "def number_squared_cust(number,power):\n",
    "    print(number**power)"
   ]
  },
  {
   "cell_type": "code",
   "execution_count": 50,
   "id": "0797b7b0-03b3-4cc4-8d02-ba1b318eddd4",
   "metadata": {},
   "outputs": [
    {
     "name": "stdout",
     "output_type": "stream",
     "text": [
      "32\n"
     ]
    }
   ],
   "source": [
    "number_squared_cust(power=5, number=2)"
   ]
  },
  {
   "cell_type": "code",
   "execution_count": 76,
   "id": "1e5cba83-5402-41ba-9e41-86149e5c43fc",
   "metadata": {},
   "outputs": [
    {
     "ename": "SyntaxError",
     "evalue": "invalid syntax (1701173877.py, line 2)",
     "output_type": "error",
     "traceback": [
      "\u001b[1;36m  Cell \u001b[1;32mIn[76], line 2\u001b[1;36m\u001b[0m\n\u001b[1;33m    print('My number is: ' + number['integer'] + , ' ' + 'my other number:' + number['integer2'])\u001b[0m\n\u001b[1;37m                                                 ^\u001b[0m\n\u001b[1;31mSyntaxError\u001b[0m\u001b[1;31m:\u001b[0m invalid syntax\n"
     ]
    }
   ],
   "source": [
    "def number_kwarg(**number):\n",
    "    print('My number is: ' + number['integer'] + , ' ' + 'my other number:' + number['integer2'])"
   ]
  },
  {
   "cell_type": "code",
   "execution_count": 74,
   "id": "fac78f0f-204e-4d2c-ab40-8de216252cdc",
   "metadata": {},
   "outputs": [
    {
     "name": "stdout",
     "output_type": "stream",
     "text": [
      "My number is: 204 my other number:200\n"
     ]
    }
   ],
   "source": [
    "number_kwarg(integer = '204', integer2 = '200')"
   ]
  },
  {
   "cell_type": "code",
   "execution_count": null,
   "id": "5eeded9f-7d91-4204-a84b-ac9b397981ef",
   "metadata": {},
   "outputs": [],
   "source": []
  }
 ],
 "metadata": {
  "kernelspec": {
   "display_name": "Python 3 (ipykernel)",
   "language": "python",
   "name": "python3"
  },
  "language_info": {
   "codemirror_mode": {
    "name": "ipython",
    "version": 3
   },
   "file_extension": ".py",
   "mimetype": "text/x-python",
   "name": "python",
   "nbconvert_exporter": "python",
   "pygments_lexer": "ipython3",
   "version": "3.12.7"
  }
 },
 "nbformat": 4,
 "nbformat_minor": 5
}
