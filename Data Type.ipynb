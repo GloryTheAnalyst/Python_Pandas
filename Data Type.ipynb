{
 "cells": [
  {
   "cell_type": "markdown",
   "id": "a9b2ca81-b4a7-44d6-a9c7-9a69ebe682ba",
   "metadata": {},
   "source": [
    "# Data Types"
   ]
  },
  {
   "cell_type": "code",
   "execution_count": 2,
   "id": "5bbeff04-694e-4205-bf95-dd1cdf356743",
   "metadata": {},
   "outputs": [
    {
     "data": {
      "text/plain": [
       "int"
      ]
     },
     "execution_count": 2,
     "metadata": {},
     "output_type": "execute_result"
    }
   ],
   "source": [
    " type(-12 +200)"
   ]
  },
  {
   "cell_type": "code",
   "execution_count": 4,
   "id": "dc9495af-7620-446c-a2d1-26309c662983",
   "metadata": {},
   "outputs": [
    {
     "data": {
      "text/plain": [
       "float"
      ]
     },
     "execution_count": 4,
     "metadata": {},
     "output_type": "execute_result"
    }
   ],
   "source": [
    "type(12 +12.25)"
   ]
  },
  {
   "cell_type": "code",
   "execution_count": 6,
   "id": "f028306b-1071-4f15-bca9-7f995a734fe7",
   "metadata": {},
   "outputs": [
    {
     "data": {
      "text/plain": [
       "complex"
      ]
     },
     "execution_count": 6,
     "metadata": {},
     "output_type": "execute_result"
    }
   ],
   "source": [
    "type(12 +3j)"
   ]
  },
  {
   "cell_type": "code",
   "execution_count": 8,
   "id": "64543ef4-66ba-4c6b-a064-150d3ee0adac",
   "metadata": {},
   "outputs": [
    {
     "data": {
      "text/plain": [
       "bool"
      ]
     },
     "execution_count": 8,
     "metadata": {},
     "output_type": "execute_result"
    }
   ],
   "source": [
    "#boolean\n",
    "\n",
    "type(True)"
   ]
  },
  {
   "cell_type": "code",
   "execution_count": 14,
   "id": "b3bb6389-7ba0-4bba-8fef-59b8e7b51cf1",
   "metadata": {},
   "outputs": [
    {
     "data": {
      "text/plain": [
       "False"
      ]
     },
     "execution_count": 14,
     "metadata": {},
     "output_type": "execute_result"
    }
   ],
   "source": [
    "1 > 5"
   ]
  },
  {
   "cell_type": "code",
   "execution_count": 7,
   "id": "244c88dd-d4dd-4610-9437-81d4224547f9",
   "metadata": {},
   "outputs": [
    {
     "data": {
      "text/plain": [
       "True"
      ]
     },
     "execution_count": 7,
     "metadata": {},
     "output_type": "execute_result"
    }
   ],
   "source": [
    "1 == 1"
   ]
  },
  {
   "cell_type": "markdown",
   "id": "5c42ec35-d461-4136-a3b8-ca60227c55a5",
   "metadata": {},
   "source": [
    "# Strings"
   ]
  },
  {
   "cell_type": "code",
   "execution_count": 21,
   "id": "6eb331d6-f57a-4b04-95ff-568e3c38d4ec",
   "metadata": {},
   "outputs": [
    {
     "data": {
      "text/plain": [
       "'Single quote'"
      ]
     },
     "execution_count": 21,
     "metadata": {},
     "output_type": "execute_result"
    }
   ],
   "source": [
    "'Single quote'"
   ]
  },
  {
   "cell_type": "code",
   "execution_count": 23,
   "id": "9004ee79-72bc-4681-9702-a6ec6015b0e8",
   "metadata": {},
   "outputs": [
    {
     "data": {
      "text/plain": [
       "'Double quote'"
      ]
     },
     "execution_count": 23,
     "metadata": {},
     "output_type": "execute_result"
    }
   ],
   "source": [
    "\"Double quote\""
   ]
  },
  {
   "cell_type": "code",
   "execution_count": 25,
   "id": "8627d812-7367-4f92-9631-66b47f6e442c",
   "metadata": {},
   "outputs": [
    {
     "name": "stdout",
     "output_type": "stream",
     "text": [
      "\n",
      "The ice cream is tasty,\n",
      "creamy and filing\n",
      "\n"
     ]
    }
   ],
   "source": [
    "multiline = \"\"\"\n",
    "The ice cream is tasty,\n",
    "creamy and filing\n",
    "\"\"\"\n",
    "\n",
    "print(multiline)"
   ]
  },
  {
   "cell_type": "code",
   "execution_count": 15,
   "id": "15d0d1ec-aa36-40d8-8bff-5b78c25cb0d6",
   "metadata": {},
   "outputs": [
    {
     "name": "stdout",
     "output_type": "stream",
     "text": [
      "Hello\n"
     ]
    }
   ],
   "source": [
    "x = 'Hello World!'\n",
    "\n",
    "print(x[:5])"
   ]
  },
  {
   "cell_type": "code",
   "execution_count": 17,
   "id": "79e9770a-dfc2-474a-9e51-3018b5096525",
   "metadata": {},
   "outputs": [
    {
     "name": "stdout",
     "output_type": "stream",
     "text": [
      "Hello Wor\n"
     ]
    }
   ],
   "source": [
    "print(x[:-3])"
   ]
  },
  {
   "cell_type": "code",
   "execution_count": 19,
   "id": "27fd6ef6-d49e-4392-8eda-0b540af72428",
   "metadata": {},
   "outputs": [
    {
     "data": {
      "text/plain": [
       "'Hello World!Hello World!Hello World!'"
      ]
     },
     "execution_count": 19,
     "metadata": {},
     "output_type": "execute_result"
    }
   ],
   "source": [
    "x*3"
   ]
  },
  {
   "cell_type": "markdown",
   "id": "b34ef7de-c17e-4995-9a3d-d6faa00e6e1b",
   "metadata": {},
   "source": [
    "# Lists"
   ]
  },
  {
   "cell_type": "code",
   "execution_count": 32,
   "id": "f4d3a669-fe7c-4e4a-8823-fa2169b4393d",
   "metadata": {},
   "outputs": [
    {
     "data": {
      "text/plain": [
       "['Cookie', 'Chocolate', 5, [3, 'scoops'], True]"
      ]
     },
     "execution_count": 32,
     "metadata": {},
     "output_type": "execute_result"
    }
   ],
   "source": [
    "['Cookie', 'Chocolate', 5,[3, 'scoops'], True]"
   ]
  },
  {
   "cell_type": "code",
   "execution_count": 52,
   "id": "8c8236fe-dbf3-440c-bdd5-ec311277687f",
   "metadata": {},
   "outputs": [
    {
     "data": {
      "text/plain": [
       "['Cookie Dough', 'Chocolate', 'Vanilla', 'Salted Caramel']"
      ]
     },
     "execution_count": 52,
     "metadata": {},
     "output_type": "execute_result"
    }
   ],
   "source": [
    "ice_Cream = ['Cookie Dough', 'Chocolate', 'Vanilla']\n",
    "\n",
    "ice_Cream.append('Salted Caramel')\n",
    "\n",
    "ice_Cream\n"
   ]
  },
  {
   "cell_type": "code",
   "execution_count": 54,
   "id": "6eecf3c8-d3d3-4286-bff5-5e0617b63995",
   "metadata": {},
   "outputs": [
    {
     "data": {
      "text/plain": [
       "['Butter Cream', 'Chocolate', 'Vanilla', 'Salted Caramel']"
      ]
     },
     "execution_count": 54,
     "metadata": {},
     "output_type": "execute_result"
    }
   ],
   "source": [
    "ice_Cream[0] = 'Butter Cream'\n",
    "\n",
    "ice_Cream"
   ]
  },
  {
   "cell_type": "markdown",
   "id": "a7d7da60-cad2-47fd-9641-8033c4db00f1",
   "metadata": {},
   "source": [
    "# Tuple"
   ]
  },
  {
   "cell_type": "code",
   "execution_count": 57,
   "id": "c1d58186-2677-4f34-8a40-45d12e29107d",
   "metadata": {},
   "outputs": [],
   "source": [
    "tuple_scoops = (1,2,3,2,1)"
   ]
  },
  {
   "cell_type": "code",
   "execution_count": 59,
   "id": "b9d7ee7a-cfd8-42c1-b46f-9b7540ca96e6",
   "metadata": {},
   "outputs": [
    {
     "data": {
      "text/plain": [
       "1"
      ]
     },
     "execution_count": 59,
     "metadata": {},
     "output_type": "execute_result"
    }
   ],
   "source": [
    "tuple_scoops[0]"
   ]
  },
  {
   "cell_type": "markdown",
   "id": "53f5e027-0a08-4b3f-8c3f-95203e5ec34b",
   "metadata": {},
   "source": [
    "# Sets"
   ]
  },
  {
   "cell_type": "code",
   "execution_count": 62,
   "id": "8c101a8c-2895-42e2-a1d7-a227cb605dfe",
   "metadata": {},
   "outputs": [],
   "source": [
    "daily_pints = {1,2,3}"
   ]
  },
  {
   "cell_type": "code",
   "execution_count": 64,
   "id": "f96fcd87-e8d1-4fe1-bfd2-2d09f59c2e7a",
   "metadata": {},
   "outputs": [
    {
     "data": {
      "text/plain": [
       "set"
      ]
     },
     "execution_count": 64,
     "metadata": {},
     "output_type": "execute_result"
    }
   ],
   "source": [
    "type(daily_pints)"
   ]
  },
  {
   "cell_type": "code",
   "execution_count": 66,
   "id": "3acf16c6-a92e-4d43-82a3-994889083a75",
   "metadata": {},
   "outputs": [
    {
     "name": "stdout",
     "output_type": "stream",
     "text": [
      "{1, 2, 3}\n"
     ]
    }
   ],
   "source": [
    "print(daily_pints)"
   ]
  },
  {
   "cell_type": "code",
   "execution_count": 70,
   "id": "76e21a4b-0caf-4543-81ce-8d873049de61",
   "metadata": {},
   "outputs": [
    {
     "name": "stdout",
     "output_type": "stream",
     "text": [
      "{1, 2, 3}\n"
     ]
    }
   ],
   "source": [
    "daily_pints_log = {1,2,3,1,1,2,3,3,1,3,2}\n",
    "\n",
    "print(daily_pints_log)"
   ]
  },
  {
   "cell_type": "code",
   "execution_count": 72,
   "id": "545efae4-51f4-42ea-84aa-5a378122ad6a",
   "metadata": {},
   "outputs": [
    {
     "name": "stdout",
     "output_type": "stream",
     "text": [
      "{0, 1, 2, 3, 4}\n"
     ]
    }
   ],
   "source": [
    "Maora_daily_pint_log = {0,2,3,1,3,1,3,2,3,4,2,1,4}\n",
    "\n",
    "print(daily_pints_log | Maora_daily_pint_log)"
   ]
  },
  {
   "cell_type": "code",
   "execution_count": 74,
   "id": "c4bf4f8d-a97d-4bd9-8261-8182d39d79fa",
   "metadata": {},
   "outputs": [
    {
     "name": "stdout",
     "output_type": "stream",
     "text": [
      "{1, 2, 3}\n"
     ]
    }
   ],
   "source": [
    "print(daily_pints_log & Maora_daily_pint_log)"
   ]
  },
  {
   "cell_type": "code",
   "execution_count": 80,
   "id": "b507f643-6432-461b-bd39-b028fe282ede",
   "metadata": {},
   "outputs": [
    {
     "name": "stdout",
     "output_type": "stream",
     "text": [
      "{0, 4}\n"
     ]
    }
   ],
   "source": [
    "print( Maora_daily_pint_log - daily_pints_log )"
   ]
  },
  {
   "cell_type": "code",
   "execution_count": 82,
   "id": "8e630f8b-b2fb-41fd-afde-ab4d67947d40",
   "metadata": {},
   "outputs": [
    {
     "name": "stdout",
     "output_type": "stream",
     "text": [
      "{0, 4}\n"
     ]
    }
   ],
   "source": [
    "print( Maora_daily_pint_log ^ daily_pints_log )"
   ]
  },
  {
   "cell_type": "markdown",
   "id": "c32949f7-7e56-43bd-81f0-c210acf3c4c1",
   "metadata": {},
   "source": [
    "# Dictionaries"
   ]
  },
  {
   "cell_type": "code",
   "execution_count": 91,
   "id": "a0446f9e-985c-45a5-8427-fdb449fed6b3",
   "metadata": {},
   "outputs": [
    {
     "name": "stdout",
     "output_type": "stream",
     "text": [
      "{'name': 'Glory O', 'weekly intake': 5, 'favorite ice creams': ['MCC', 'Chocolate']}\n"
     ]
    }
   ],
   "source": [
    "#Key/Value Pair\n",
    "\n",
    "dict_cream = {'name': 'Glory O', 'weekly intake': 5, 'favorite ice creams': ['MCC', 'Chocolate']}\n",
    "\n",
    "print(dict_cream)"
   ]
  },
  {
   "cell_type": "code",
   "execution_count": 93,
   "id": "eea453f3-3aea-4f42-a52f-75eaca4ae044",
   "metadata": {},
   "outputs": [
    {
     "data": {
      "text/plain": [
       "dict_values(['Glory O', 5, ['MCC', 'Chocolate']])"
      ]
     },
     "execution_count": 93,
     "metadata": {},
     "output_type": "execute_result"
    }
   ],
   "source": [
    "dict_cream.values()"
   ]
  },
  {
   "cell_type": "code",
   "execution_count": 95,
   "id": "c3e85423-1a52-4714-b763-331aab71b6b9",
   "metadata": {},
   "outputs": [
    {
     "data": {
      "text/plain": [
       "dict_keys(['name', 'weekly intake', 'favorite ice creams'])"
      ]
     },
     "execution_count": 95,
     "metadata": {},
     "output_type": "execute_result"
    }
   ],
   "source": [
    "dict_cream.keys()"
   ]
  },
  {
   "cell_type": "code",
   "execution_count": 97,
   "id": "f2d85890-99ce-457e-9376-02ae916acb37",
   "metadata": {},
   "outputs": [
    {
     "data": {
      "text/plain": [
       "dict_items([('name', 'Glory O'), ('weekly intake', 5), ('favorite ice creams', ['MCC', 'Chocolate'])])"
      ]
     },
     "execution_count": 97,
     "metadata": {},
     "output_type": "execute_result"
    }
   ],
   "source": [
    "dict_cream.items()"
   ]
  },
  {
   "cell_type": "code",
   "execution_count": 101,
   "id": "266daa85-a778-4ecf-b257-5a55951b3909",
   "metadata": {},
   "outputs": [
    {
     "data": {
      "text/plain": [
       "'Glory O'"
      ]
     },
     "execution_count": 101,
     "metadata": {},
     "output_type": "execute_result"
    }
   ],
   "source": [
    "dict_cream['name']"
   ]
  },
  {
   "cell_type": "code",
   "execution_count": 113,
   "id": "f93a35f6-c4de-4313-836c-655f4b518fc1",
   "metadata": {},
   "outputs": [
    {
     "name": "stdout",
     "output_type": "stream",
     "text": [
      "{'name': 'Glory O', 'weekly intake': 5, 'favorite ice creams': ['MCC', 'Chocolate'], 'Weight': 79}\n"
     ]
    }
   ],
   "source": [
    "dict_cream.update({'name': 'Glory O', 'weekly intake': 5, 'Weight': 79})\n",
    "\n",
    "print(dict_cream)"
   ]
  },
  {
   "cell_type": "code",
   "execution_count": null,
   "id": "af2fa3bc-1ff9-4d9e-9def-d8d226f13ad0",
   "metadata": {},
   "outputs": [],
   "source": []
  }
 ],
 "metadata": {
  "kernelspec": {
   "display_name": "Python 3 (ipykernel)",
   "language": "python",
   "name": "python3"
  },
  "language_info": {
   "codemirror_mode": {
    "name": "ipython",
    "version": 3
   },
   "file_extension": ".py",
   "mimetype": "text/x-python",
   "name": "python",
   "nbconvert_exporter": "python",
   "pygments_lexer": "ipython3",
   "version": "3.12.7"
  }
 },
 "nbformat": 4,
 "nbformat_minor": 5
}
