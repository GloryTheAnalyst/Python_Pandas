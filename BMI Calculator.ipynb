{
 "cells": [
  {
   "cell_type": "markdown",
   "id": "a2b8d384-e250-4a64-a4c8-efcab95acadb",
   "metadata": {},
   "source": [
    "# BMI Calculator"
   ]
  },
  {
   "cell_type": "code",
   "execution_count": 2,
   "id": "9ad088c6-ad65-45d4-b464-c24ea1c08727",
   "metadata": {},
   "outputs": [
    {
     "name": "stdin",
     "output_type": "stream",
     "text": [
      " Alex\n"
     ]
    }
   ],
   "source": [
    "weight = input()"
   ]
  },
  {
   "cell_type": "code",
   "execution_count": 4,
   "id": "4c847f34-dd55-46af-b3b0-e1e58c7d2f0d",
   "metadata": {},
   "outputs": [
    {
     "name": "stdout",
     "output_type": "stream",
     "text": [
      "Alex\n"
     ]
    }
   ],
   "source": [
    "print(weight)"
   ]
  },
  {
   "cell_type": "code",
   "execution_count": 34,
   "id": "2c4b679e-0831-4e44-b6d0-2b89bc1edf92",
   "metadata": {},
   "outputs": [
    {
     "name": "stdin",
     "output_type": "stream",
     "text": [
      "Enter your name:  Glory\n",
      "Enter your weight in pounds:  179\n",
      "Enter your height in inches:  64\n"
     ]
    },
    {
     "name": "stdout",
     "output_type": "stream",
     "text": [
      "30.721923828125\n",
      "Glory, You are obese.\n"
     ]
    }
   ],
   "source": [
    "name = input(\"Enter your name: \")\n",
    "\n",
    "weight = int(input(\"Enter your weight in pounds: \"))\n",
    "\n",
    "height = int(input(\"Enter your height in inches: \"))\n",
    "\n",
    "BMI = (weight * 703)/(height * height)\n",
    "\n",
    "print(BMI)\n",
    "\n",
    "if BMI>0:\n",
    "    if(BMI<18.5):\n",
    "        print(name +\", You are underweight.\")\n",
    "    elif(BMI <=24.9):\n",
    "        print(name +\", You are normal weight.\")\n",
    "    elif(BMI <29.9):\n",
    "        print(name +\", You are overweight.\")\n",
    "    elif(BMI <34.9):\n",
    "        print(name +\", You are obese.\")\n",
    "    elif(BMI <39.9):\n",
    "        print(name +\", You are severely obese.\")\n",
    "    elif(BMI <34.9):\n",
    "        print(name +\", You are overweight.\")\n",
    "    else:\n",
    "        print(name +\", You are morbidly obese.\")\n",
    "else:\n",
    "    print(\"Enter valid input\")\n"
   ]
  },
  {
   "cell_type": "code",
   "execution_count": 11,
   "id": "c2333f81-39ce-4c0c-a6fc-19a44c397c3c",
   "metadata": {},
   "outputs": [
    {
     "ename": "SyntaxError",
     "evalue": "invalid syntax (3700552175.py, line 1)",
     "output_type": "error",
     "traceback": [
      "\u001b[1;36m  Cell \u001b[1;32mIn[11], line 1\u001b[1;36m\u001b[0m\n\u001b[1;33m    under 18.5 - Underweight - Minimal\u001b[0m\n\u001b[1;37m          ^\u001b[0m\n\u001b[1;31mSyntaxError\u001b[0m\u001b[1;31m:\u001b[0m invalid syntax\n"
     ]
    }
   ],
   "source": [
    "under 18.5 - Underweight - Minimal\n",
    "18.5 - 24.9 - Normal Weight - Minimal\n",
    "25 - 29.9 - Overweight - Increased\n",
    "30 - 34.9 - Obese - High\n",
    "35 - 39.9 - Severely Obese - Very High\n",
    "40 and Over - Morbidly Obese - Extremely High"
   ]
  },
  {
   "cell_type": "code",
   "execution_count": 17,
   "id": "7a72e1ae-7645-4ac6-ab22-3d8442ae29c6",
   "metadata": {},
   "outputs": [
    {
     "name": "stdout",
     "output_type": "stream",
     "text": [
      "You are underweight.\n"
     ]
    }
   ],
   "source": [
    "if BMI > 0:\n",
    "    if(BMI<18.5):\n",
    "        print(\"You are underweight.\")\n",
    "    else:\n",
    "        print(\"Enter valid inputs.\")"
   ]
  },
  {
   "cell_type": "code",
   "execution_count": 32,
   "id": "d06fc638-091e-4aa8-abc4-fc041eb5b129",
   "metadata": {},
   "outputs": [
    {
     "name": "stdout",
     "output_type": "stream",
     "text": [
      "Glory, You are overweight.\n"
     ]
    }
   ],
   "source": [
    "if BMI>0:\n",
    "    if(BMI<18.5):\n",
    "        print(name +\", You are underweight.\")\n",
    "    elif(BMI <=24.9):\n",
    "        print(name +\", You are normal weight.\")\n",
    "    elif(BMI <29.9):\n",
    "        print(name +\", You are overweight.\")\n",
    "    elif(BMI <34.9):\n",
    "        print(name +\", You are obese.\")\n",
    "    elif(BMI <39.9):\n",
    "        print(name +\", You are severely obese.\")\n",
    "    elif(BMI <34.9):\n",
    "        print(name +\", You are overweight.\")\n",
    "    else:\n",
    "        print(name +\", You are morbidly obese.\")"
   ]
  },
  {
   "cell_type": "code",
   "execution_count": null,
   "id": "f74eb1d1-0982-45bb-ae39-050c5d75e0c0",
   "metadata": {},
   "outputs": [],
   "source": []
  },
  {
   "cell_type": "code",
   "execution_count": null,
   "id": "da42ba12-9a45-412f-b972-6f5e5feb8dd8",
   "metadata": {},
   "outputs": [],
   "source": []
  },
  {
   "cell_type": "code",
   "execution_count": null,
   "id": "43af6839-dce5-4886-bbbf-1cf0ae55bdc8",
   "metadata": {},
   "outputs": [],
   "source": []
  }
 ],
 "metadata": {
  "kernelspec": {
   "display_name": "Python 3 (ipykernel)",
   "language": "python",
   "name": "python3"
  },
  "language_info": {
   "codemirror_mode": {
    "name": "ipython",
    "version": 3
   },
   "file_extension": ".py",
   "mimetype": "text/x-python",
   "name": "python",
   "nbconvert_exporter": "python",
   "pygments_lexer": "ipython3",
   "version": "3.12.7"
  }
 },
 "nbformat": 4,
 "nbformat_minor": 5
}
