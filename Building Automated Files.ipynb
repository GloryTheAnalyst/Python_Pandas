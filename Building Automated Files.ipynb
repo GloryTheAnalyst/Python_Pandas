{
 "cells": [
  {
   "cell_type": "markdown",
   "id": "56369665-2cf3-4677-89d4-7748adba22bb",
   "metadata": {},
   "source": [
    "# Building Automatic File Sorter in File Explorer"
   ]
  },
  {
   "cell_type": "code",
   "execution_count": 8,
   "id": "62e25b31-68e0-43f2-b31d-abf3b381b9da",
   "metadata": {},
   "outputs": [],
   "source": [
    " import os, shutil"
   ]
  },
  {
   "cell_type": "code",
   "execution_count": 49,
   "id": "e465db44-5845-4d8b-bf9e-d89cacc7993c",
   "metadata": {},
   "outputs": [],
   "source": [
    "path = r\"C:/Users/Owner/OneDrive/Desktop/Documentations/\""
   ]
  },
  {
   "cell_type": "code",
   "execution_count": 64,
   "id": "05f2c1d6-f1a2-4d95-96cb-04dc65bc16c4",
   "metadata": {},
   "outputs": [],
   "source": [
    "file_name = os.listdir(path)"
   ]
  },
  {
   "cell_type": "code",
   "execution_count": 62,
   "id": "b06aae5a-58c3-4dc4-b3ee-256a05cc0071",
   "metadata": {},
   "outputs": [
    {
     "name": "stdout",
     "output_type": "stream",
     "text": [
      "C:/Users/Owner/OneDrive/Desktop/Documentations/text files\n"
     ]
    }
   ],
   "source": [
    "folder_names = ['csv files', 'image files', 'text files']\n",
    "\n",
    "for loop in range(0,3):\n",
    "    if not os.path.exists(path + folder_names[loop]):\n",
    "        print(path + folder_names[loop])\n",
    "        os.makedirs(path + folder_names[loop])"
   ]
  },
  {
   "cell_type": "code",
   "execution_count": 66,
   "id": "a5ef1793-2ffb-4bd3-9826-22054dd39b07",
   "metadata": {},
   "outputs": [],
   "source": [
    "for file in file_name:\n",
    "    if \".csv\" in file and not os.path.exists(path + \"csv files/\" + file):\n",
    "        shutil.move(path + file, path + \"csv files/\" + file)"
   ]
  },
  {
   "cell_type": "code",
   "execution_count": 70,
   "id": "595dec50-b52f-4e34-a9f6-673de7c01b8f",
   "metadata": {},
   "outputs": [],
   "source": [
    "for file in file_name:\n",
    "    if \".pdf\" in file and not os.path.exists(path + \"text files/\" + file):\n",
    "        shutil.move(path + file, path + \"text files/\" + file)"
   ]
  },
  {
   "cell_type": "code",
   "execution_count": 72,
   "id": "e19e54fc-c3e4-4e5f-9ced-9a638746419d",
   "metadata": {},
   "outputs": [],
   "source": [
    "for file in file_name:\n",
    "    if \".jpg\" in file and not os.path.exists(path + \"image files/\" + file):\n",
    "        shutil.move(path + file, path + \"image files/\" + file)"
   ]
  },
  {
   "cell_type": "code",
   "execution_count": null,
   "id": "2e87193b-409f-4212-8666-c47dcee83e33",
   "metadata": {},
   "outputs": [],
   "source": []
  },
  {
   "cell_type": "code",
   "execution_count": null,
   "id": "2a31ecb6-eb60-4344-8176-e13cf9eeedf7",
   "metadata": {},
   "outputs": [],
   "source": []
  },
  {
   "cell_type": "code",
   "execution_count": null,
   "id": "77b1bd7a-1cdb-48dc-9335-10becc54b991",
   "metadata": {},
   "outputs": [],
   "source": []
  },
  {
   "cell_type": "code",
   "execution_count": null,
   "id": "f79d8dd5-b3a1-45a6-947c-0d4a14ef4475",
   "metadata": {},
   "outputs": [],
   "source": []
  },
  {
   "cell_type": "code",
   "execution_count": null,
   "id": "f8363a2b-4849-495f-816f-2f18783cc7b0",
   "metadata": {},
   "outputs": [],
   "source": []
  }
 ],
 "metadata": {
  "kernelspec": {
   "display_name": "Python 3 (ipykernel)",
   "language": "python",
   "name": "python3"
  },
  "language_info": {
   "codemirror_mode": {
    "name": "ipython",
    "version": 3
   },
   "file_extension": ".py",
   "mimetype": "text/x-python",
   "name": "python",
   "nbconvert_exporter": "python",
   "pygments_lexer": "ipython3",
   "version": "3.12.7"
  }
 },
 "nbformat": 4,
 "nbformat_minor": 5
}
